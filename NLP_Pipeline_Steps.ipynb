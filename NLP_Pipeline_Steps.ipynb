{
  "nbformat": 4,
  "nbformat_minor": 0,
  "metadata": {
    "colab": {
      "provenance": []
    },
    "kernelspec": {
      "name": "python3",
      "display_name": "Python 3"
    },
    "language_info": {
      "name": "python"
    }
  },
  "cells": [
    {
      "cell_type": "code",
      "source": [
        "import nltk\n",
        "import string\n",
        "import tensorflow\n",
        "from nltk.tokenize import word_tokenize,sent_tokenize\n",
        "from nltk.corpus import stopwords\n",
        "from tensorflow.keras.preprocessing.text import Tokenizer\n",
        "from tensorflow.keras.preprocessing.sequence import pad_sequences\n",
        "from nltk.stem import WordNetLemmatizer\n",
        "\n",
        "\n",
        "from tensorflow.keras.models import Sequential\n",
        "from tensorflow.keras.layers import Embedding, LSTM, Dense,Input\n",
        "\n",
        "\n",
        "nltk.download('stopwords')\n",
        "nltk.download('punkt_tab')"
      ],
      "metadata": {
        "colab": {
          "base_uri": "https://localhost:8080/",
          "height": 0
        },
        "id": "aqesFYFSTCGG",
        "outputId": "b3be098e-9588-4bc5-8c99-eb4c92bc9e94"
      },
      "execution_count": 43,
      "outputs": [
        {
          "output_type": "stream",
          "name": "stderr",
          "text": [
            "[nltk_data] Downloading package stopwords to /root/nltk_data...\n",
            "[nltk_data]   Package stopwords is already up-to-date!\n",
            "[nltk_data] Downloading package punkt_tab to /root/nltk_data...\n",
            "[nltk_data]   Package punkt_tab is already up-to-date!\n"
          ]
        },
        {
          "output_type": "execute_result",
          "data": {
            "text/plain": [
              "True"
            ]
          },
          "metadata": {},
          "execution_count": 43
        }
      ]
    },
    {
      "cell_type": "markdown",
      "source": [
        "# **Input Text**"
      ],
      "metadata": {
        "id": "BI_13Z5vZGlX"
      }
    },
    {
      "cell_type": "code",
      "source": [
        "text = \"\"\"Dr. John Smith, a renowned scientist, visited the United Nations in New York on Jan. 5th, 2022.\n",
        "He gave a lecture on climate change and its global effects.\n",
        "Thousands of people attended the event, including media personnel.\"\"\"\n"
      ],
      "metadata": {
        "id": "T3by24JIUbFm"
      },
      "execution_count": 16,
      "outputs": []
    },
    {
      "cell_type": "markdown",
      "source": [
        "# **First Remove html tags**"
      ],
      "metadata": {
        "id": "9Xc1tSmZR27i"
      }
    },
    {
      "cell_type": "markdown",
      "source": [
        "# **Perform Sentence Tokenization**"
      ],
      "metadata": {
        "id": "K-UfRhDlSD27"
      }
    },
    {
      "cell_type": "code",
      "source": [
        "sentences = sent_tokenize(text)\n",
        "print(sentences)"
      ],
      "metadata": {
        "colab": {
          "base_uri": "https://localhost:8080/",
          "height": 0
        },
        "id": "QQPEGcBZRsLW",
        "outputId": "40e8aa57-2105-46f9-912f-0a7245753bcd"
      },
      "execution_count": 17,
      "outputs": [
        {
          "output_type": "stream",
          "name": "stdout",
          "text": [
            "['Dr. John Smith, a renowned scientist, visited the United Nations in New York on Jan. 5th, 2022.', 'He gave a lecture on climate change and its global effects.', 'Thousands of people attended the event, including media personnel.']\n"
          ]
        }
      ]
    },
    {
      "cell_type": "markdown",
      "source": [
        "# **Perform Word Tokenization**"
      ],
      "metadata": {
        "id": "x3XBxv6GUrU1"
      }
    },
    {
      "cell_type": "code",
      "source": [
        "tokens = [word_tokenize(sent) for sent in sentences]\n",
        "print(tokens)"
      ],
      "metadata": {
        "colab": {
          "base_uri": "https://localhost:8080/",
          "height": 0
        },
        "id": "kriBwmPsSRfN",
        "outputId": "afe8f350-7f27-4536-f802-a3cf996b4528"
      },
      "execution_count": 18,
      "outputs": [
        {
          "output_type": "stream",
          "name": "stdout",
          "text": [
            "[['Dr.', 'John', 'Smith', ',', 'a', 'renowned', 'scientist', ',', 'visited', 'the', 'United', 'Nations', 'in', 'New', 'York', 'on', 'Jan.', '5th', ',', '2022', '.'], ['He', 'gave', 'a', 'lecture', 'on', 'climate', 'change', 'and', 'its', 'global', 'effects', '.'], ['Thousands', 'of', 'people', 'attended', 'the', 'event', ',', 'including', 'media', 'personnel', '.']]\n"
          ]
        }
      ]
    },
    {
      "cell_type": "markdown",
      "source": [
        "# **Lower Casing the Words**"
      ],
      "metadata": {
        "id": "m6OExy3CWxZx"
      }
    },
    {
      "cell_type": "code",
      "source": [
        "tokens = [[word.lower() for word in sent] for sent in tokens]\n",
        "print(tokens)"
      ],
      "metadata": {
        "colab": {
          "base_uri": "https://localhost:8080/",
          "height": 0
        },
        "id": "6wmyGeCdWLuM",
        "outputId": "6521c3ed-6351-400a-bd77-080bf8423237"
      },
      "execution_count": 19,
      "outputs": [
        {
          "output_type": "stream",
          "name": "stdout",
          "text": [
            "[['dr.', 'john', 'smith', ',', 'a', 'renowned', 'scientist', ',', 'visited', 'the', 'united', 'nations', 'in', 'new', 'york', 'on', 'jan.', '5th', ',', '2022', '.'], ['he', 'gave', 'a', 'lecture', 'on', 'climate', 'change', 'and', 'its', 'global', 'effects', '.'], ['thousands', 'of', 'people', 'attended', 'the', 'event', ',', 'including', 'media', 'personnel', '.']]\n"
          ]
        }
      ]
    },
    {
      "cell_type": "markdown",
      "source": [
        "# **Removing Stopwords**"
      ],
      "metadata": {
        "id": "Eq9kSp4JW3G8"
      }
    },
    {
      "cell_type": "code",
      "source": [
        "stop_words = set(stopwords.words('english'))\n",
        "\n",
        "tokens_no_stop = [[word for word in sent if word not in stop_words] for sent in tokens]\n",
        "print(tokens_no_stop)"
      ],
      "metadata": {
        "colab": {
          "base_uri": "https://localhost:8080/",
          "height": 0
        },
        "id": "fnQX9VpmTc1j",
        "outputId": "74a2a39b-b33a-4fd5-aa07-482222d0d1e4"
      },
      "execution_count": 20,
      "outputs": [
        {
          "output_type": "stream",
          "name": "stdout",
          "text": [
            "[['dr.', 'john', 'smith', ',', 'renowned', 'scientist', ',', 'visited', 'united', 'nations', 'new', 'york', 'jan.', '5th', ',', '2022', '.'], ['gave', 'lecture', 'climate', 'change', 'global', 'effects', '.'], ['thousands', 'people', 'attended', 'event', ',', 'including', 'media', 'personnel', '.']]\n"
          ]
        }
      ]
    },
    {
      "cell_type": "markdown",
      "source": [
        "# **Remove Punctuation**"
      ],
      "metadata": {
        "id": "9o_U93CWX9E7"
      }
    },
    {
      "cell_type": "code",
      "source": [
        "punctuations = set(string.punctuation)\n",
        "\n",
        "tokens_no_punct = [[word for word in sent if word not in punctuations] for sent in tokens_no_stop]\n",
        "print(tokens_no_punct)"
      ],
      "metadata": {
        "colab": {
          "base_uri": "https://localhost:8080/",
          "height": 0
        },
        "id": "uRpqnWrQXN_f",
        "outputId": "c4ae931c-cc60-46a1-97f8-2eb74732d35a"
      },
      "execution_count": 21,
      "outputs": [
        {
          "output_type": "stream",
          "name": "stdout",
          "text": [
            "[['dr.', 'john', 'smith', 'renowned', 'scientist', 'visited', 'united', 'nations', 'new', 'york', 'jan.', '5th', '2022'], ['gave', 'lecture', 'climate', 'change', 'global', 'effects'], ['thousands', 'people', 'attended', 'event', 'including', 'media', 'personnel']]\n"
          ]
        }
      ]
    },
    {
      "cell_type": "markdown",
      "source": [
        "# **Lemmatization**"
      ],
      "metadata": {
        "id": "SH2mLdsIY-jc"
      }
    },
    {
      "cell_type": "code",
      "source": [
        "nltk.download('wordnet')\n",
        "nltk.download('omw-1.4')"
      ],
      "metadata": {
        "colab": {
          "base_uri": "https://localhost:8080/",
          "height": 0
        },
        "id": "wpe3Zc0cX0O6",
        "outputId": "f59954fc-7ab4-4f72-cf6d-86055dd6aa0a"
      },
      "execution_count": 23,
      "outputs": [
        {
          "output_type": "stream",
          "name": "stderr",
          "text": [
            "[nltk_data] Downloading package wordnet to /root/nltk_data...\n",
            "[nltk_data] Downloading package omw-1.4 to /root/nltk_data...\n"
          ]
        },
        {
          "output_type": "execute_result",
          "data": {
            "text/plain": [
              "True"
            ]
          },
          "metadata": {},
          "execution_count": 23
        }
      ]
    },
    {
      "cell_type": "code",
      "source": [
        "lemmatizer = WordNetLemmatizer()\n",
        "\n",
        "filtered = [[lemmatizer.lemmatize(word) for word in sent] for sent in tokens_no_punct]\n",
        "print(filtered)"
      ],
      "metadata": {
        "colab": {
          "base_uri": "https://localhost:8080/",
          "height": 0
        },
        "id": "iucxsKWrYipj",
        "outputId": "65580b89-f77f-414f-f1ba-186b0e474c45"
      },
      "execution_count": 24,
      "outputs": [
        {
          "output_type": "stream",
          "name": "stdout",
          "text": [
            "[['dr.', 'john', 'smith', 'renowned', 'scientist', 'visited', 'united', 'nation', 'new', 'york', 'jan.', '5th', '2022'], ['gave', 'lecture', 'climate', 'change', 'global', 'effect'], ['thousand', 'people', 'attended', 'event', 'including', 'medium', 'personnel']]\n"
          ]
        }
      ]
    },
    {
      "cell_type": "markdown",
      "source": [
        "# **Tokenization for Model building**"
      ],
      "metadata": {
        "id": "2bRz823baVRc"
      }
    },
    {
      "cell_type": "markdown",
      "source": [
        "***Rejoin the Text***"
      ],
      "metadata": {
        "id": "lmzF_oVZafGp"
      }
    },
    {
      "cell_type": "code",
      "source": [
        "texts = [' '.join(tokens) for tokens in filtered]\n",
        "print(texts)"
      ],
      "metadata": {
        "colab": {
          "base_uri": "https://localhost:8080/",
          "height": 0
        },
        "id": "QAOn2QOWY0tV",
        "outputId": "26632d5c-b9bb-41e1-ae3f-9c582602bc35"
      },
      "execution_count": 25,
      "outputs": [
        {
          "output_type": "stream",
          "name": "stdout",
          "text": [
            "['dr. john smith renowned scientist visited united nation new york jan. 5th 2022', 'gave lecture climate change global effect', 'thousand people attended event including medium personnel']\n"
          ]
        }
      ]
    },
    {
      "cell_type": "markdown",
      "source": [
        "***Tokenize them***"
      ],
      "metadata": {
        "id": "Zad7LOwmap4k"
      }
    },
    {
      "cell_type": "code",
      "source": [
        "tokenizer = Tokenizer()\n",
        "tokenizer.fit_on_texts(texts)"
      ],
      "metadata": {
        "id": "4DNbAkGYZcQ7"
      },
      "execution_count": 26,
      "outputs": []
    },
    {
      "cell_type": "code",
      "source": [
        "tokenizer.word_index"
      ],
      "metadata": {
        "colab": {
          "base_uri": "https://localhost:8080/",
          "height": 0
        },
        "id": "x_gJ2yTvZmso",
        "outputId": "b86862bb-421c-4143-ff18-67ca780f1b30"
      },
      "execution_count": 27,
      "outputs": [
        {
          "output_type": "execute_result",
          "data": {
            "text/plain": [
              "{'dr': 1,\n",
              " 'john': 2,\n",
              " 'smith': 3,\n",
              " 'renowned': 4,\n",
              " 'scientist': 5,\n",
              " 'visited': 6,\n",
              " 'united': 7,\n",
              " 'nation': 8,\n",
              " 'new': 9,\n",
              " 'york': 10,\n",
              " 'jan': 11,\n",
              " '5th': 12,\n",
              " '2022': 13,\n",
              " 'gave': 14,\n",
              " 'lecture': 15,\n",
              " 'climate': 16,\n",
              " 'change': 17,\n",
              " 'global': 18,\n",
              " 'effect': 19,\n",
              " 'thousand': 20,\n",
              " 'people': 21,\n",
              " 'attended': 22,\n",
              " 'event': 23,\n",
              " 'including': 24,\n",
              " 'medium': 25,\n",
              " 'personnel': 26}"
            ]
          },
          "metadata": {},
          "execution_count": 27
        }
      ]
    },
    {
      "cell_type": "code",
      "source": [
        "vocab_size = len(tokenizer.word_index)+1\n",
        "vocab_size"
      ],
      "metadata": {
        "colab": {
          "base_uri": "https://localhost:8080/",
          "height": 0
        },
        "id": "OgqnfNYecVZ8",
        "outputId": "137272e1-02ba-44da-8f31-f4d8cbe5b217"
      },
      "execution_count": 33,
      "outputs": [
        {
          "output_type": "execute_result",
          "data": {
            "text/plain": [
              "27"
            ]
          },
          "metadata": {},
          "execution_count": 33
        }
      ]
    },
    {
      "cell_type": "markdown",
      "source": [
        "***Text to Sequences***"
      ],
      "metadata": {
        "id": "7zq1iU1Sa-BB"
      }
    },
    {
      "cell_type": "code",
      "source": [
        "sequences = tokenizer.texts_to_sequences(texts)\n",
        "print(sequences)"
      ],
      "metadata": {
        "colab": {
          "base_uri": "https://localhost:8080/",
          "height": 0
        },
        "id": "WuvYx67lZq4g",
        "outputId": "b7c217d6-b392-4082-a256-f368a2ea4771"
      },
      "execution_count": 28,
      "outputs": [
        {
          "output_type": "stream",
          "name": "stdout",
          "text": [
            "[[1, 2, 3, 4, 5, 6, 7, 8, 9, 10, 11, 12, 13], [14, 15, 16, 17, 18, 19], [20, 21, 22, 23, 24, 25, 26]]\n"
          ]
        }
      ]
    },
    {
      "cell_type": "markdown",
      "source": [
        "***Padding the Sequences***"
      ],
      "metadata": {
        "id": "nY4SQylVbctw"
      }
    },
    {
      "cell_type": "code",
      "source": [
        "padded = pad_sequences(sequences, padding='post')\n",
        "print(padded)"
      ],
      "metadata": {
        "colab": {
          "base_uri": "https://localhost:8080/",
          "height": 0
        },
        "id": "YPsfowvga3bB",
        "outputId": "2f7bf12d-0a23-4524-af0a-9f83c86ef27f"
      },
      "execution_count": 34,
      "outputs": [
        {
          "output_type": "stream",
          "name": "stdout",
          "text": [
            "[[ 1  2  3  4  5  6  7  8  9 10 11 12 13]\n",
            " [14 15 16 17 18 19  0  0  0  0  0  0  0]\n",
            " [20 21 22 23 24 25 26  0  0  0  0  0  0]]\n"
          ]
        }
      ]
    },
    {
      "cell_type": "code",
      "source": [
        "sequence_length = padded.shape[1]\n",
        "\n",
        "model = Sequential([\n",
        "    Input(shape=(sequence_length,)),\n",
        "    Embedding(input_dim=len(tokenizer.word_index)+1, output_dim=50),\n",
        "    LSTM(64),\n",
        "    Dense(1, activation='sigmoid')\n",
        "])"
      ],
      "metadata": {
        "id": "DCNVJXq4bZwZ"
      },
      "execution_count": 44,
      "outputs": []
    },
    {
      "cell_type": "code",
      "source": [
        "model.compile(optimizer='adam', loss='binary_crossentropy', metrics=['accuracy'])"
      ],
      "metadata": {
        "id": "XeoQvlyDdArL"
      },
      "execution_count": 45,
      "outputs": []
    },
    {
      "cell_type": "code",
      "source": [
        "model.summary()"
      ],
      "metadata": {
        "colab": {
          "base_uri": "https://localhost:8080/",
          "height": 234
        },
        "id": "8IKRmEQodFQt",
        "outputId": "8f015f5a-a9b3-45fa-8b34-c44328bb5279"
      },
      "execution_count": 47,
      "outputs": [
        {
          "output_type": "display_data",
          "data": {
            "text/plain": [
              "\u001b[1mModel: \"sequential_2\"\u001b[0m\n"
            ],
            "text/html": [
              "<pre style=\"white-space:pre;overflow-x:auto;line-height:normal;font-family:Menlo,'DejaVu Sans Mono',consolas,'Courier New',monospace\"><span style=\"font-weight: bold\">Model: \"sequential_2\"</span>\n",
              "</pre>\n"
            ]
          },
          "metadata": {}
        },
        {
          "output_type": "display_data",
          "data": {
            "text/plain": [
              "┏━━━━━━━━━━━━━━━━━━━━━━━━━━━━━━━━━┳━━━━━━━━━━━━━━━━━━━━━━━━┳━━━━━━━━━━━━━━━┓\n",
              "┃\u001b[1m \u001b[0m\u001b[1mLayer (type)                   \u001b[0m\u001b[1m \u001b[0m┃\u001b[1m \u001b[0m\u001b[1mOutput Shape          \u001b[0m\u001b[1m \u001b[0m┃\u001b[1m \u001b[0m\u001b[1m      Param #\u001b[0m\u001b[1m \u001b[0m┃\n",
              "┡━━━━━━━━━━━━━━━━━━━━━━━━━━━━━━━━━╇━━━━━━━━━━━━━━━━━━━━━━━━╇━━━━━━━━━━━━━━━┩\n",
              "│ embedding_2 (\u001b[38;5;33mEmbedding\u001b[0m)         │ (\u001b[38;5;45mNone\u001b[0m, \u001b[38;5;34m13\u001b[0m, \u001b[38;5;34m50\u001b[0m)         │         \u001b[38;5;34m1,350\u001b[0m │\n",
              "├─────────────────────────────────┼────────────────────────┼───────────────┤\n",
              "│ lstm_2 (\u001b[38;5;33mLSTM\u001b[0m)                   │ (\u001b[38;5;45mNone\u001b[0m, \u001b[38;5;34m64\u001b[0m)             │        \u001b[38;5;34m29,440\u001b[0m │\n",
              "├─────────────────────────────────┼────────────────────────┼───────────────┤\n",
              "│ dense_2 (\u001b[38;5;33mDense\u001b[0m)                 │ (\u001b[38;5;45mNone\u001b[0m, \u001b[38;5;34m1\u001b[0m)              │            \u001b[38;5;34m65\u001b[0m │\n",
              "└─────────────────────────────────┴────────────────────────┴───────────────┘\n"
            ],
            "text/html": [
              "<pre style=\"white-space:pre;overflow-x:auto;line-height:normal;font-family:Menlo,'DejaVu Sans Mono',consolas,'Courier New',monospace\">┏━━━━━━━━━━━━━━━━━━━━━━━━━━━━━━━━━┳━━━━━━━━━━━━━━━━━━━━━━━━┳━━━━━━━━━━━━━━━┓\n",
              "┃<span style=\"font-weight: bold\"> Layer (type)                    </span>┃<span style=\"font-weight: bold\"> Output Shape           </span>┃<span style=\"font-weight: bold\">       Param # </span>┃\n",
              "┡━━━━━━━━━━━━━━━━━━━━━━━━━━━━━━━━━╇━━━━━━━━━━━━━━━━━━━━━━━━╇━━━━━━━━━━━━━━━┩\n",
              "│ embedding_2 (<span style=\"color: #0087ff; text-decoration-color: #0087ff\">Embedding</span>)         │ (<span style=\"color: #00d7ff; text-decoration-color: #00d7ff\">None</span>, <span style=\"color: #00af00; text-decoration-color: #00af00\">13</span>, <span style=\"color: #00af00; text-decoration-color: #00af00\">50</span>)         │         <span style=\"color: #00af00; text-decoration-color: #00af00\">1,350</span> │\n",
              "├─────────────────────────────────┼────────────────────────┼───────────────┤\n",
              "│ lstm_2 (<span style=\"color: #0087ff; text-decoration-color: #0087ff\">LSTM</span>)                   │ (<span style=\"color: #00d7ff; text-decoration-color: #00d7ff\">None</span>, <span style=\"color: #00af00; text-decoration-color: #00af00\">64</span>)             │        <span style=\"color: #00af00; text-decoration-color: #00af00\">29,440</span> │\n",
              "├─────────────────────────────────┼────────────────────────┼───────────────┤\n",
              "│ dense_2 (<span style=\"color: #0087ff; text-decoration-color: #0087ff\">Dense</span>)                 │ (<span style=\"color: #00d7ff; text-decoration-color: #00d7ff\">None</span>, <span style=\"color: #00af00; text-decoration-color: #00af00\">1</span>)              │            <span style=\"color: #00af00; text-decoration-color: #00af00\">65</span> │\n",
              "└─────────────────────────────────┴────────────────────────┴───────────────┘\n",
              "</pre>\n"
            ]
          },
          "metadata": {}
        },
        {
          "output_type": "display_data",
          "data": {
            "text/plain": [
              "\u001b[1m Total params: \u001b[0m\u001b[38;5;34m30,855\u001b[0m (120.53 KB)\n"
            ],
            "text/html": [
              "<pre style=\"white-space:pre;overflow-x:auto;line-height:normal;font-family:Menlo,'DejaVu Sans Mono',consolas,'Courier New',monospace\"><span style=\"font-weight: bold\"> Total params: </span><span style=\"color: #00af00; text-decoration-color: #00af00\">30,855</span> (120.53 KB)\n",
              "</pre>\n"
            ]
          },
          "metadata": {}
        },
        {
          "output_type": "display_data",
          "data": {
            "text/plain": [
              "\u001b[1m Trainable params: \u001b[0m\u001b[38;5;34m30,855\u001b[0m (120.53 KB)\n"
            ],
            "text/html": [
              "<pre style=\"white-space:pre;overflow-x:auto;line-height:normal;font-family:Menlo,'DejaVu Sans Mono',consolas,'Courier New',monospace\"><span style=\"font-weight: bold\"> Trainable params: </span><span style=\"color: #00af00; text-decoration-color: #00af00\">30,855</span> (120.53 KB)\n",
              "</pre>\n"
            ]
          },
          "metadata": {}
        },
        {
          "output_type": "display_data",
          "data": {
            "text/plain": [
              "\u001b[1m Non-trainable params: \u001b[0m\u001b[38;5;34m0\u001b[0m (0.00 B)\n"
            ],
            "text/html": [
              "<pre style=\"white-space:pre;overflow-x:auto;line-height:normal;font-family:Menlo,'DejaVu Sans Mono',consolas,'Courier New',monospace\"><span style=\"font-weight: bold\"> Non-trainable params: </span><span style=\"color: #00af00; text-decoration-color: #00af00\">0</span> (0.00 B)\n",
              "</pre>\n"
            ]
          },
          "metadata": {}
        }
      ]
    },
    {
      "cell_type": "code",
      "source": [
        "!pip install pydot graphviz\n",
        "!sudo apt-get install graphviz"
      ],
      "metadata": {
        "colab": {
          "base_uri": "https://localhost:8080/",
          "height": 0
        },
        "id": "DBSTiaAsdHqB",
        "outputId": "cd4641da-c037-4972-9d9c-1247b4b58472"
      },
      "execution_count": 49,
      "outputs": [
        {
          "output_type": "stream",
          "name": "stdout",
          "text": [
            "Requirement already satisfied: pydot in /usr/local/lib/python3.11/dist-packages (3.0.4)\n",
            "Requirement already satisfied: graphviz in /usr/local/lib/python3.11/dist-packages (0.21)\n",
            "Requirement already satisfied: pyparsing>=3.0.9 in /usr/local/lib/python3.11/dist-packages (from pydot) (3.2.3)\n",
            "Reading package lists... Done\n",
            "Building dependency tree... Done\n",
            "Reading state information... Done\n",
            "graphviz is already the newest version (2.42.2-6ubuntu0.1).\n",
            "0 upgraded, 0 newly installed, 0 to remove and 35 not upgraded.\n"
          ]
        }
      ]
    },
    {
      "cell_type": "code",
      "source": [
        "from tensorflow.keras.utils import plot_model\n",
        "\n",
        "plot_model(model, to_file='model_architecture.png', show_shapes=True, show_layer_names=True)\n"
      ],
      "metadata": {
        "colab": {
          "base_uri": "https://localhost:8080/",
          "height": 939
        },
        "id": "SkaBpSvdhZoz",
        "outputId": "12f04975-0104-4786-a7fc-1e53079a4246"
      },
      "execution_count": 50,
      "outputs": [
        {
          "output_type": "execute_result",
          "data": {
            "image/png": "[encoded data removed]",
            "text/plain": [
              "<IPython.core.display.Image object>"
            ]
          },
          "metadata": {},
          "execution_count": 50
        }
      ]
    },
    {
      "cell_type": "code",
      "source": [],
      "metadata": {
        "id": "rdprL9D4h-2j"
      },
      "execution_count": null,
      "outputs": []
    }
  ]
}